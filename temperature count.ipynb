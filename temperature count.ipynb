{
  "nbformat": 4,
  "nbformat_minor": 0,
  "metadata": {
    "colab": {
      "provenance": [],
      "include_colab_link": true
    },
    "kernelspec": {
      "name": "python3",
      "display_name": "Python 3"
    },
    "language_info": {
      "name": "python"
    }
  },
  "cells": [
    {
      "cell_type": "markdown",
      "metadata": {
        "id": "view-in-github",
        "colab_type": "text"
      },
      "source": [
        "<a href=\"https://colab.research.google.com/github/nur303/Problem-solve/blob/main/temperature%20count.ipynb\" target=\"_parent\"><img src=\"https://colab.research.google.com/assets/colab-badge.svg\" alt=\"Open In Colab\"/></a>"
      ]
    },
    {
      "cell_type": "markdown",
      "source": [
        "#Instructions\n",
        "* Make a copy of this file and submit it in the google classroom under Quiz # 03 heading. You should write and run the code right in that colab file.\n",
        "* You should do your own work. Copying from friends/website or any other sources is prohibited, and if caught then you will be awarded with zero marks.\n",
        "* Add as many cells as you want but do not delete any cell.\n",
        "\n",
        "Enjoy Coding!"
      ],
      "metadata": {
        "id": "tutYmymGz-o9"
      }
    },
    {
      "cell_type": "markdown",
      "source": [
        "**Name**: Nur Muhammad Nur\n",
        "\n",
        "**ID**: 2220410\n",
        "\n",
        "**Section**: 9\n",
        "\n",
        "\n",
        "---\n",
        "\n"
      ],
      "metadata": {
        "id": "AlpS9Sbjzj4_"
      }
    },
    {
      "cell_type": "markdown",
      "source": [
        "#Question # 1:\n",
        "\n",
        "A code snippet is given below which can generate random numbers with in a given range. Use that function to generate temperatures ranging from -15 to 45 for n number of cities. \\\\\n",
        "\n",
        "a) Take the number of cities n as input \\\\\n",
        "b) Generate the temperature of n cities using the function provided and store it in a list. You can give the minimum and maximum value of the range as [-15, +45]. \\\\\n",
        "c) Categorize the temperatures according to the following table: \\\\\n",
        "\n",
        "Temperature Label | temperature range\n",
        "-----------------|-----------\n",
        "Hot       | 28 -45\n",
        "Mild      | 15 - 27.9\n",
        "Cool      | 4 - 14.9\n",
        "Freezing  | -15 - 3.9\n",
        "\n",
        "To categorize temperatures you have to write a function Bin() which will accept the list of temperatures, mininum range and maximum range of that bin and return the list of temperatures falling in that range (min_range, max_range).\n",
        "\n",
        "d) Store the sub-list of temperatures returned from the Bin() function in a 2D list where each row contains the sublist returned from the function Bin() and the 0th index of each row is the name of the temperature category i.e., 'Hot', 'Mild' etc mentioned in the table above. You can create a separate list to hold the category names. \\\\\n",
        "e) Print the result in a tabular form as given in the sample (Your table values will look different because of the random data but it should be in the same format as given in the sample input/output below:\n",
        "\n",
        "**Sample Input/ Output:** \\\\\n",
        "Enter number of Cities: 35 \\\\\n",
        "\n",
        "Temp Category    | Count     |List of Tempertures in this category\n",
        "------------------|---------|------------------------------\n",
        "Hot  |    7  | [*list of temperatures in this category*]\n",
        "Mild  |    10 |    [*list of temperatures in this category*]\n",
        "Cool|        5 |    [*list of temperatures in this category*]\n",
        "Freezing     |    13 |    [*list of temperatures in this category*]"
      ],
      "metadata": {
        "id": "1lc7RQsw0VDD"
      }
    },
    {
      "cell_type": "code",
      "execution_count": null,
      "metadata": {
        "id": "mZHm16KmziaU"
      },
      "outputs": [],
      "source": [
        "#Function to generate random floating point numbers in a given range (min_value, max_value)\n",
        "def GenerateRandomNumbers(total_numbers_to_generate, min_value, max_value):\n",
        "  random_list = []\n",
        "  for i in range(total_numbers_to_generate):\n",
        "    random_list.append(round(random.uniform(min_value, max_value),2))\n",
        "\n",
        "  return random_list"
      ]
    },
    {
      "cell_type": "code",
      "source": [
        "# Your Code\n",
        "def generaterandomnumbers(total_numbers_to_generate,min_value,max_value):\n",
        "    random_list=[]\n",
        "    for i in range (total_numbers_to_generate):\n",
        "        a=round(min_value+random.random()*max_value,2)\n",
        "        random_list.append(a)\n",
        "\n",
        "    return random_list\n",
        "\n",
        "import random\n",
        "total_numbers_to_generate=int(input(\"Enter number of cities:\"))\n",
        "min_value=-15\n",
        "max_value=45\n",
        "\n",
        "a=generaterandomnumbers(total_numbers_to_generate,min_value,max_value)\n",
        "hotlist=[]\n",
        "mildlist=[]\n",
        "coollist=[]\n",
        "frzlst=[]\n",
        "count1=0\n",
        "count2=0\n",
        "count3=0\n",
        "count4=0\n",
        "y=0\n",
        "while y<total_numbers_to_generate:\n",
        "    b=a[y]\n",
        "    if b>28 and b<45:\n",
        "        hotlist.append(b)\n",
        "        count1+=1\n",
        "    elif b>15 and b<27.9:\n",
        "        mildlist.append(b)\n",
        "        count2+=1\n",
        "    elif b>4 and b<14.9:\n",
        "        coollist.append(b)\n",
        "        count3+=1\n",
        "    else:\n",
        "        frzlst.append(b)\n",
        "        count4+=1\n",
        "    y+=1\n",
        "\n",
        "print(f\"random list={a}\")\n",
        "print(\"Tem category     Count     List of temt. in category\")\n",
        "print(f\"Hot           {count1}             {hotlist}\")\n",
        "print(f\"Cool          {count2}             {coollist}\")\n",
        "print(f\"Mild          {count3}             {mildlist}\")\n",
        "print(f\"Freeze        {count4}             {frzlst}\")\n"
      ],
      "metadata": {
        "id": "Up1dTGoGJWER",
        "colab": {
          "base_uri": "https://localhost:8080/"
        },
        "outputId": "ba463ee8-c324-403e-e552-ac8ceabee80c"
      },
      "execution_count": null,
      "outputs": [
        {
          "output_type": "stream",
          "name": "stdout",
          "text": [
            "Enter number of cities:35\n",
            "random list=[-10.96, 11.16, 1.97, 24.38, -5.31, -2.85, 13.27, 24.22, 10.17, -12.96, -9.03, 19.12, 27.85, -3.34, -2.16, -9.33, 15.5, 21.97, 12.68, 28.2, 5.27, 3.61, 21.44, 26.4, 17.05, 10.36, 13.04, 5.8, 23.3, 17.12, 9.15, 25.19, -2.91, 22.6, -2.71]\n",
            "Tem category     Count     List of temt. in category\n",
            "Hot           1             [28.2]\n",
            "Cool          13             [11.16, 13.27, 10.17, 12.68, 5.27, 10.36, 13.04, 5.8, 9.15]\n",
            "Mild          9             [24.38, 24.22, 19.12, 27.85, 15.5, 21.97, 21.44, 26.4, 17.05, 23.3, 17.12, 25.19, 22.6]\n",
            "Freeze        12             [-10.96, 1.97, -5.31, -2.85, -12.96, -9.03, -3.34, -2.16, -9.33, 3.61, -2.91, -2.71]\n"
          ]
        }
      ]
    }
  ]
}