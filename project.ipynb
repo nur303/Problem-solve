{
  "nbformat": 4,
  "nbformat_minor": 0,
  "metadata": {
    "colab": {
      "provenance": [],
      "include_colab_link": true
    },
    "kernelspec": {
      "name": "python3",
      "display_name": "Python 3"
    },
    "language_info": {
      "name": "python"
    }
  },
  "cells": [
    {
      "cell_type": "markdown",
      "metadata": {
        "id": "view-in-github",
        "colab_type": "text"
      },
      "source": [
        "<a href=\"https://colab.research.google.com/github/nur303/Problem-solve/blob/main/project.ipynb\" target=\"_parent\"><img src=\"https://colab.research.google.com/assets/colab-badge.svg\" alt=\"Open In Colab\"/></a>"
      ]
    },
    {
      "cell_type": "code",
      "execution_count": null,
      "metadata": {
        "id": "ELyPWes-7KpW"
      },
      "outputs": [],
      "source": [
        "!pip install -q kaggle"
      ]
    },
    {
      "cell_type": "code",
      "source": [
        "from google.colab import files\n",
        "files.upload()"
      ],
      "metadata": {
        "colab": {
          "resources": {
            "http://localhost:8080/nbextensions/google.colab/files.js": {
              "data": "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",
              "ok": true,
              "headers": [
                [
                  "content-type",
                  "application/javascript"
                ]
              ],
              "status": 200,
              "status_text": ""
            }
          },
          "base_uri": "https://localhost:8080/",
          "height": 91
        },
        "id": "u6zfqwH37W4G",
        "outputId": "b86ef033-bad9-412f-a740-8e07c12c205c"
      },
      "execution_count": null,
      "outputs": [
        {
          "output_type": "display_data",
          "data": {
            "text/plain": [
              "<IPython.core.display.HTML object>"
            ],
            "text/html": [
              "\n",
              "     <input type=\"file\" id=\"files-754aad91-7df4-45b6-a408-df0e104b7f1b\" name=\"files[]\" multiple disabled\n",
              "        style=\"border:none\" />\n",
              "     <output id=\"result-754aad91-7df4-45b6-a408-df0e104b7f1b\">\n",
              "      Upload widget is only available when the cell has been executed in the\n",
              "      current browser session. Please rerun this cell to enable.\n",
              "      </output>\n",
              "      <script src=\"/nbextensions/google.colab/files.js\"></script> "
            ]
          },
          "metadata": {}
        },
        {
          "output_type": "stream",
          "name": "stdout",
          "text": [
            "Saving kaggle.json to kaggle.json\n"
          ]
        },
        {
          "output_type": "execute_result",
          "data": {
            "text/plain": [
              "{'kaggle.json': b'{\"username\":\"nurmuhammadnur\",\"key\":\"9627d9277df60f964de6d71841b61b9c\"}'}"
            ]
          },
          "metadata": {},
          "execution_count": 2
        }
      ]
    },
    {
      "cell_type": "code",
      "source": [
        "! mkdir ~/.kaggle"
      ],
      "metadata": {
        "id": "GuaInUjc7ckH"
      },
      "execution_count": null,
      "outputs": []
    },
    {
      "cell_type": "code",
      "source": [
        "! cp kaggle.json ~/.kaggle/"
      ],
      "metadata": {
        "id": "fH1IPqiW7kdP"
      },
      "execution_count": null,
      "outputs": []
    },
    {
      "cell_type": "code",
      "source": [
        "! chmod 600 ~/.kaggle/kaggle.json"
      ],
      "metadata": {
        "id": "qCCClirA7oMM"
      },
      "execution_count": null,
      "outputs": []
    },
    {
      "cell_type": "code",
      "source": [
        "! kaggle datasets list"
      ],
      "metadata": {
        "colab": {
          "base_uri": "https://localhost:8080/"
        },
        "id": "gdXQ2jFs7sDt",
        "outputId": "41ace206-61f6-4c72-9852-7a92f5b61ffe"
      },
      "execution_count": null,
      "outputs": [
        {
          "output_type": "stream",
          "name": "stdout",
          "text": [
            "ref                                                                            title                                             size  lastUpdated          downloadCount  voteCount  usabilityRating  \n",
            "-----------------------------------------------------------------------------  -----------------------------------------------  -----  -------------------  -------------  ---------  ---------------  \n",
            "datasets/muratkokludataset/acoustic-extinguisher-fire-dataset                  Acoustic Extinguisher Fire Dataset               621KB  2022-04-02 22:59:36            781        633  0.9375           \n",
            "datasets/muratkokludataset/rice-image-dataset                                  Rice Image Dataset                               219MB  2022-04-03 02:12:00            816        590  0.875            \n",
            "datasets/mdmahmudulhasansuzan/students-adaptability-level-in-online-education  Students Adaptability Level in Online Education    6KB  2022-04-16 04:46:28           3179         78  1.0              \n",
            "datasets/muratkokludataset/raisin-dataset                                      Raisin Dataset                                   112KB  2022-04-03 00:23:16            352        516  0.9375           \n",
            "datasets/muratkokludataset/pistachio-dataset                                   Pistachio Dataset                                  2MB  2022-04-03 08:38:21            453        539  0.9375           \n",
            "datasets/muratkokludataset/dry-bean-dataset                                    Dry Bean Dataset                                   5MB  2022-04-02 23:19:30            273        520  0.9375           \n",
            "datasets/muratkokludataset/pistachio-image-dataset                             Pistachio Image Dataset                           27MB  2022-03-28 18:01:27            302        576  0.9375           \n",
            "datasets/muratkokludataset/grapevine-leaves-image-dataset                      Grapevine Leaves Image Dataset                   109MB  2022-04-03 09:00:54            104        549  0.875            \n",
            "datasets/muratkokludataset/rice-msc-dataset                                    Rice MSC Dataset                                 102MB  2022-04-03 01:33:52            157        511  0.875            \n",
            "datasets/muratkokludataset/pumpkin-seeds-dataset                               Pumpkin Seeds Dataset                            393KB  2022-03-28 18:28:16            359        516  0.9375           \n",
            "datasets/muratkokludataset/durum-wheat-dataset                                 Durum Wheat Dataset                              983MB  2022-04-03 00:02:29             63        524  0.875            \n",
            "datasets/muratkokludataset/rice-dataset-commeo-and-osmancik                    Rice Dataset Commeo and Osmancik                 524KB  2022-04-03 00:40:03             79        503  0.875            \n",
            "datasets/muhmores/spotify-top-100-songs-of-20152019                            Spotify Top 100 Songs of 2010-2019               139KB  2022-04-09 06:35:36           3880         87  0.88235295       \n",
            "datasets/rinichristy/covid19-coronavirus-pandemic                              COVID-19 Coronavirus Pandemic                      9KB  2022-04-05 08:43:16           2417         50  1.0              \n",
            "datasets/aslanahmedov/walmart-sales-forecast                                   Walmart Sales Forecast                             3MB  2022-04-21 05:28:20           1577         45  1.0              \n",
            "datasets/digvijaysinhgohil/covid19-data-deaths-and-vaccinations                Covid-19 Data Deaths and Vaccinations              2MB  2022-05-04 19:06:58            245         15  0.9411765        \n",
            "datasets/alexandrparkhomenko/top-apps-in-google-play                           Top Apps in Google Play                            3KB  2022-04-29 05:16:34            643         32  1.0              \n",
            "datasets/samuelcortinhas/credit-card-approval-clean-data                       Credit Card Approvals (Clean Data)                19KB  2022-04-25 15:52:35           1217         33  1.0              \n",
            "datasets/awsaf49/uwmgi-mask-dataset                                            UWMGI: Mask Dataset                               77MB  2022-04-24 17:46:47            459         35  0.7647059        \n",
            "datasets/xhlulu/cpc-codes                                                      Cooperative Patent Classification Codes Meaning    5MB  2022-03-22 03:04:36           1610        119  1.0              \n"
          ]
        }
      ]
    },
    {
      "cell_type": "code",
      "source": [
        "! kaggle datasets download -d daveianhickey/2000-16-traffic-flow-england-scotland-wales"
      ],
      "metadata": {
        "colab": {
          "base_uri": "https://localhost:8080/"
        },
        "id": "oMUiwLct7wrd",
        "outputId": "b0d65e79-249a-4564-9799-3b149e16d6b3"
      },
      "execution_count": null,
      "outputs": [
        {
          "output_type": "stream",
          "name": "stdout",
          "text": [
            "Downloading 2000-16-traffic-flow-england-scotland-wales.zip to /content\n",
            " 98% 129M/132M [00:05<00:00, 30.1MB/s]\n",
            "100% 132M/132M [00:05<00:00, 25.0MB/s]\n"
          ]
        }
      ]
    },
    {
      "cell_type": "code",
      "source": [
        "! unzip 2000-16-traffic-flow-england-scotland-wales.zip"
      ],
      "metadata": {
        "colab": {
          "base_uri": "https://localhost:8080/"
        },
        "id": "PwmXwTMp76r8",
        "outputId": "4dceb54b-b3bb-421b-c0ec-f6843d57bc47"
      },
      "execution_count": null,
      "outputs": [
        {
          "output_type": "stream",
          "name": "stdout",
          "text": [
            "Archive:  2000-16-traffic-flow-england-scotland-wales.zip\n",
            "  inflating: Areas.shp               \n",
            "  inflating: Local_Authority_Districts_Dec_2016.geojson  \n",
            "  inflating: accident_coords_update.ipynb  \n",
            "  inflating: accidents_2005_to_2007.csv  \n",
            "  inflating: accidents_2009_to_2011.csv  \n",
            "  inflating: accidents_2012_to_2014.csv  \n",
            "  inflating: ukTrafficAADF.csv       \n"
          ]
        }
      ]
    },
    {
      "cell_type": "code",
      "source": [
        "import csv\n",
        "f = open('accidents_2005_to_2007.csv','r')\n",
        "reader = csv.reader(f)\n",
        "\n",
        "dataList = []\n",
        "for row in reader:\n",
        "  dataList.append(row)"
      ],
      "metadata": {
        "id": "n_tmhOhB8NIE"
      },
      "execution_count": null,
      "outputs": []
    },
    {
      "cell_type": "code",
      "source": [
        "print('index\\titem')\n",
        "for i in range(len(dataList[0])):\n",
        "  print(i,'\\t', dataList[0][i])"
      ],
      "metadata": {
        "colab": {
          "base_uri": "https://localhost:8080/"
        },
        "id": "th9V42f08Ri0",
        "outputId": "cb1caed7-0b7c-4e98-982b-94791bfdd05a"
      },
      "execution_count": null,
      "outputs": [
        {
          "output_type": "stream",
          "name": "stdout",
          "text": [
            "index\titem\n",
            "0 \t Accident_Index\n",
            "1 \t Location_Easting_OSGR\n",
            "2 \t Location_Northing_OSGR\n",
            "3 \t Longitude\n",
            "4 \t Latitude\n",
            "5 \t Police_Force\n",
            "6 \t Accident_Severity\n",
            "7 \t Number_of_Vehicles\n",
            "8 \t Number_of_Casualties\n",
            "9 \t Date\n",
            "10 \t Day_of_Week\n",
            "11 \t Time\n",
            "12 \t Local_Authority_(District)\n",
            "13 \t Local_Authority_(Highway)\n",
            "14 \t 1st_Road_Class\n",
            "15 \t 1st_Road_Number\n",
            "16 \t Road_Type\n",
            "17 \t Speed_limit\n",
            "18 \t Junction_Detail\n",
            "19 \t Junction_Control\n",
            "20 \t 2nd_Road_Class\n",
            "21 \t 2nd_Road_Number\n",
            "22 \t Pedestrian_Crossing-Human_Control\n",
            "23 \t Pedestrian_Crossing-Physical_Facilities\n",
            "24 \t Light_Conditions\n",
            "25 \t Weather_Conditions\n",
            "26 \t Road_Surface_Conditions\n",
            "27 \t Special_Conditions_at_Site\n",
            "28 \t Carriageway_Hazards\n",
            "29 \t Urban_or_Rural_Area\n",
            "30 \t Did_Police_Officer_Attend_Scene_of_Accident\n",
            "31 \t LSOA_of_Accident_Location\n",
            "32 \t Year\n"
          ]
        }
      ]
    },
    {
      "cell_type": "code",
      "source": [
        "print('Number of rows:', len(dataList)-1)\n",
        "print('Number of columns:', len(dataList[0]))"
      ],
      "metadata": {
        "colab": {
          "base_uri": "https://localhost:8080/"
        },
        "id": "SBvNbte78WAk",
        "outputId": "0ae05d06-e4fb-4746-e5bc-9f5e8911c0ad"
      },
      "execution_count": null,
      "outputs": [
        {
          "output_type": "stream",
          "name": "stdout",
          "text": [
            "Number of rows: 570011\n",
            "Number of columns: 33\n"
          ]
        }
      ]
    },
    {
      "cell_type": "code",
      "source": [
        "for i in dataList:\n",
        "  print(i)"
      ],
      "metadata": {
        "id": "p_NjUyyK8aEU"
      },
      "execution_count": null,
      "outputs": []
    },
    {
      "cell_type": "markdown",
      "source": [
        "DataSetList"
      ],
      "metadata": {
        "id": "Jnlft1pNE6Ld"
      }
    },
    {
      "cell_type": "code",
      "source": [
        "import numpy as np\n",
        "\n",
        "dataSetList = np.transpose(dataList)\n",
        "for i in dataSetList:\n",
        "  print(i)"
      ],
      "metadata": {
        "colab": {
          "base_uri": "https://localhost:8080/"
        },
        "id": "Tht0knvA8jFF",
        "outputId": "e29ec04d-154c-48a5-9975-5caa22c04dfd"
      },
      "execution_count": null,
      "outputs": [
        {
          "output_type": "stream",
          "name": "stdout",
          "text": [
            "['Accident_Index' '200501BS00001' '200501BS00002' ... '2.01E+12'\n",
            " '2.01E+12' '2.01E+12']\n",
            "['Location_Easting_OSGR' '525680' '524170' ... '336900' '332390' '314040']\n",
            "['Location_Northing_OSGR' '178240' '181650' ... '586230' '567240' '579740']\n",
            "['Longitude' '-0.19117' '-0.211708' ... '-2.992068' '-3.058338'\n",
            " '-3.348857']\n",
            "['Latitude' '51.489096' '51.520075' ... '55.166369' '54.995154'\n",
            " '55.104618']\n",
            "['Police_Force' '1' '1' ... '98' '98' '98']\n",
            "['Accident_Severity' '2' '3' ... '3' '3' '2']\n",
            "['Number_of_Vehicles' '1' '1' ... '1' '1' '2']\n",
            "['Number_of_Casualties' '1' '1' ... '1' '1' '2']\n",
            "['Date' '04/01/2005' '05/01/2005' ... '23/12/2007' '23/12/2007'\n",
            " '22/12/2007']\n",
            "['Day_of_Week' '3' '4' ... '1' '1' '7']\n",
            "['Time' '17:42' '17:36' ... '03:07' '20:00' '11:31']\n",
            "['Local_Authority_(District)' '12' '12' ... '917' '917' '917']\n",
            "['Local_Authority_(Highway)' 'E09000020' 'E09000020' ... 'S12000006'\n",
            " 'S12000006' 'S12000006']\n",
            "['1st_Road_Class' '3' '4' ... '3' '6' '4']\n",
            "['1st_Road_Number' '3218' '450' ... '7' '0' '723']\n",
            "['Road_Type' 'Single carriageway' 'Dual carriageway' ...\n",
            " 'Single carriageway' 'Single carriageway' 'Single carriageway']\n",
            "['Speed_limit' '30' '30' ... '60' '30' '60']\n",
            "['Junction_Detail' '' '' ... '' '' '']\n",
            "['Junction_Control' '' 'Automatic traffic signal' ... ''\n",
            " 'Giveway or uncontrolled' 'Giveway or uncontrolled']\n",
            "['2nd_Road_Class' '-1' '5' ... '-1' '4' '2']\n",
            "['2nd_Road_Number' '0' '0' ... '0' '7076' '74']\n",
            "['Pedestrian_Crossing-Human_Control' 'None within 50 metres'\n",
            " 'None within 50 metres' ... 'None within 50 metres'\n",
            " 'None within 50 metres' 'None within 50 metres']\n",
            "['Pedestrian_Crossing-Physical_Facilities' 'Zebra crossing'\n",
            " 'Pedestrian phase at traffic signal junction' ...\n",
            " 'No physical crossing within 50 meters'\n",
            " 'No physical crossing within 50 meters'\n",
            " 'No physical crossing within 50 meters']\n",
            "['Light_Conditions' 'Daylight: Street light present'\n",
            " 'Darkness: Street lights present and lit' ...\n",
            " 'Darkeness: No street lighting' 'Darkness: Street lights present and lit'\n",
            " 'Daylight: Street light present']\n",
            "['Weather_Conditions' 'Raining without high winds'\n",
            " 'Fine without high winds' ... 'Fog or mist' 'Fine without high winds'\n",
            " 'Raining without high winds']\n",
            "['Road_Surface_Conditions' 'Wet/Damp' 'Dry' ... 'Frost/Ice' 'Wet/Damp'\n",
            " 'Frost/Ice']\n",
            "['Special_Conditions_at_Site' 'None' 'None' ... 'None' 'None' 'None']\n",
            "['Carriageway_Hazards' 'None' 'None' ... 'None' 'None' 'None']\n",
            "['Urban_or_Rural_Area' '1' '1' ... '2' '2' '2']\n",
            "['Did_Police_Officer_Attend_Scene_of_Accident' 'Yes' 'Yes' ... 'Yes' 'No'\n",
            " 'Yes']\n",
            "['LSOA_of_Accident_Location' 'E01002849' 'E01002909' ... '' '' '']\n",
            "['Year' '2005' '2005' ... '2007' '2007' '2007']\n"
          ]
        }
      ]
    },
    {
      "cell_type": "markdown",
      "source": [
        "1.It seems to me that in this code we have the most frequent accidents in hours.\n",
        "Because in the morning people have office and students have school and in the afternoon there are holidays. Due to which accidents are more in the morning and afternoon ."
      ],
      "metadata": {
        "id": "gkcZGPhRQKFy"
      }
    },
    {
      "cell_type": "code",
      "source": [
        "time = ['00:00-3:00','03:01-5:00','06:01-08:00','08:01-16:00','16:01-24:00']\n",
        "count = [0,0,0,0,0]\n",
        "\n",
        "for i in range(1,len(dataSetList[11])):\n",
        "  if (dataSetList[11][i] >= '00:00' and dataSetList[11][i] <='03:00'):\n",
        "    count[0]+=1\n",
        "  elif (dataSetList[11][i] >= '03:01' and dataSetList[11][i] <='5:00'):\n",
        "    count[1]+=1\n",
        "  elif (dataSetList[11][i] >= '06:01' and dataSetList[11][i] <='8:00'):\n",
        "    count[2]+=1\n",
        "  if (dataSetList[11][i] >= '08:01' and dataSetList[11][i] <='16:00'):\n",
        "    count[1]+=1\n",
        "  elif (dataSetList[11][i] >= '16:01' and dataSetList[11][i] <='24:00'):\n",
        "    count[2]+=1\n",
        "\n",
        "print(time)\n",
        "print(count)"
      ],
      "metadata": {
        "colab": {
          "base_uri": "https://localhost:8080/"
        },
        "id": "6s-wue3T20iD",
        "outputId": "32673606-ad62-4340-dc0f-216d461c7e28"
      },
      "execution_count": null,
      "outputs": [
        {
          "output_type": "stream",
          "name": "stdout",
          "text": [
            "['00:00-3:00', '03:01-5:00', '06:01-08:00', '08:01-16:00', '16:01-24:00']\n",
            "[22825, 817433, 230931, 0, 0]\n"
          ]
        }
      ]
    },
    {
      "cell_type": "markdown",
      "source": [
        "3.Yes it can be an accident for the weather. May be due to rain and may be due to fog. Roads are not visible in rain and fog so accidents happen."
      ],
      "metadata": {
        "id": "YPD9uDKdTjuL"
      }
    },
    {
      "cell_type": "code",
      "source": [
        "weathercondition_list=[]\n",
        "for i in range(1,len(dataSetList[25])):\n",
        "  if dataSetList[25][i] not in weathercondition_list:\n",
        "    weathercondition_list.append(dataSetList[25][i])\n",
        "casualities_count=[]\n",
        "for i in range(len(weathercondition_list)):\n",
        "  casualities_count.append(0)\n",
        "for i in range(1,len(dataSetList[25])):\n",
        "  for j in range(len(weathercondition_list)):\n",
        "    if dataSetList[25][i]==weathercondition_list[j]:\n",
        "      casualities_count[j]+=int(dataSetList[8][i])\n",
        "print(weathercondition_list)\n",
        "print(casualities_count)\n",
        "print(max(casualities_count))\n",
        "print(weathercondition_list[casualities_count.index(max(casualities_count))])"
      ],
      "metadata": {
        "colab": {
          "base_uri": "https://localhost:8080/"
        },
        "id": "sEQTEOWP23h9",
        "outputId": "ec43d62d-b5e1-441e-f2aa-682c90b11701"
      },
      "execution_count": null,
      "outputs": [
        {
          "output_type": "stream",
          "name": "stdout",
          "text": [
            "['Raining without high winds', 'Fine without high winds', 'Unknown', 'Snowing without high winds', 'Other', 'Fine with high winds', 'Raining with high winds', 'Fog or mist', 'Snowing with high winds', '']\n",
            "[97153, 616197, 13916, 3968, 18414, 10446, 11448, 4862, 769, 28]\n",
            "616197\n",
            "Fine without high winds\n"
          ]
        }
      ]
    },
    {
      "cell_type": "markdown",
      "source": [
        "5.yes  its help."
      ],
      "metadata": {
        "id": "oOP8g2VKUm4V"
      }
    },
    {
      "cell_type": "code",
      "source": [
        "lightcondition_list=[]\n",
        "for i in range(1,len(dataSetList[24])):\n",
        "  if dataSetList[24][i] not in lightcondition_list:\n",
        "    lightcondition_list.append(dataSetList[24][i])\n",
        "count=[]\n",
        "for i in range(len(lightcondition_list)):\n",
        "  count.append(0)\n",
        "for i in range(1,len(dataSetList[24])):\n",
        "  for j in range(len(lightcondition_list)):\n",
        "    if dataSetList[24][i]==lightcondition_list[j]:\n",
        "      count[j]+=1\n",
        "print(lightcondition_list)\n",
        "print(count)\n",
        "print(max(count))\n",
        "print(lightcondition_list[count.index(max(count))])\n"
      ],
      "metadata": {
        "id": "vdwqT7jb4crj",
        "colab": {
          "base_uri": "https://localhost:8080/"
        },
        "outputId": "57f994b3-8d96-4f05-ec34-a41a08c8fcfb"
      },
      "execution_count": null,
      "outputs": [
        {
          "output_type": "stream",
          "name": "stdout",
          "text": [
            "['Daylight: Street light present', 'Darkness: Street lights present and lit', 'Darkness: Street lighting unknown', 'Darkness: Street lights present but unlit', 'Darkeness: No street lighting']\n",
            "[414282, 114406, 4656, 2467, 34200]\n",
            "414282\n",
            "Daylight: Street light present\n"
          ]
        }
      ]
    },
    {
      "cell_type": "markdown",
      "source": [
        "9.In my opinion, accidents are more common on wet roads, snowy roads and floods\n",
        "Casualties are reported in the code below."
      ],
      "metadata": {
        "id": "uZFpMWN6VAdj"
      }
    },
    {
      "cell_type": "code",
      "source": [
        "roadcondition_list=[]\n",
        "for i in range(1,len(dataSetList[26])):\n",
        "  if dataSetList[26][i] not in roadcondition_list:\n",
        "    roadcondition_list.append(dataSetList[26][i])\n",
        "casualities_count=[]\n",
        "for i in range(len(roadcondition_list)):\n",
        "  casualities_count.append(0)\n",
        "for i in range(1,len(dataSetList[26])):\n",
        "  for j in range(len(roadcondition_list)):\n",
        "    if dataSetList[26][i]==roadcondition_list[j]:\n",
        "      casualities_count[j]+=int(dataSetList[8][i])\n",
        "print(roadcondition_list)\n",
        "print(casualities_count)\n",
        "print(max(casualities_count))\n",
        "print(roadcondition_list[casualities_count.index(max(casualities_count))])"
      ],
      "metadata": {
        "colab": {
          "base_uri": "https://localhost:8080/"
        },
        "id": "9Vdt1TJANzVm",
        "outputId": "4aa0e393-f077-4d0f-abee-d71c72e1da55"
      },
      "execution_count": null,
      "outputs": [
        {
          "output_type": "stream",
          "name": "stdout",
          "text": [
            "['Wet/Damp', 'Dry', 'Frost/Ice', 'Snow', 'Flood (Over 3cm of water)', '']\n",
            "[240136, 521613, 10731, 2815, 1094, 812]\n",
            "521613\n",
            "Dry\n"
          ]
        }
      ]
    },
    {
      "cell_type": "markdown",
      "source": [
        "**About** **Graph**"
      ],
      "metadata": {
        "id": "AYdnfpeSWiyr"
      }
    },
    {
      "cell_type": "code",
      "source": [
        "import matplotlib.pyplot as plt\n",
        "\n",
        "# x-coordinates of left sides of bars\n",
        "left = [1, 2, 3, 4, 5]\n",
        "\n",
        "# heights of bars\n",
        "height = [10, 24, 36, 40, 5]\n",
        "\n",
        "# labels for bars\n",
        "tick_label = ['one', 'two', 'three', 'four', 'five']\n",
        "\n",
        "# plotting a bar chart\n",
        "plt.bar(left, height, tick_label = tick_label,\n",
        "\t\twidth = 0.8, color = ['red', 'green'])\n",
        "\n",
        "# naming the x-axis\n",
        "plt.xlabel('x - axis')\n",
        "# naming the y-axis\n",
        "plt.ylabel('y - axis')\n",
        "# plot title\n",
        "plt.title('My bar chart!')\n",
        "\n",
        "# function to show the plot\n",
        "plt.show()"
      ],
      "metadata": {
        "colab": {
          "base_uri": "https://localhost:8080/",
          "height": 295
        },
        "id": "gSjBsXGMWenj",
        "outputId": "8cb59605-ba76-4526-dab8-5078362c4925"
      },
      "execution_count": null,
      "outputs": [
        {
          "output_type": "display_data",
          "data": {
            "text/plain": [
              "<Figure size 432x288 with 1 Axes>"
            ],
            "image/png": "[encoded data removed]"
          },
          "metadata": {
            "needs_background": "light"
          }
        }
      ]
    }
  ]
}