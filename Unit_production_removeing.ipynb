{
  "nbformat": 4,
  "nbformat_minor": 0,
  "metadata": {
    "colab": {
      "provenance": [],
      "authorship_tag": "ABX9TyOl3ayu4a5uolAxGeXKJdqD",
      "include_colab_link": true
    },
    "kernelspec": {
      "name": "python3",
      "display_name": "Python 3"
    },
    "language_info": {
      "name": "python"
    }
  },
  "cells": [
    {
      "cell_type": "markdown",
      "metadata": {
        "id": "view-in-github",
        "colab_type": "text"
      },
      "source": [
        "<a href=\"https://colab.research.google.com/github/nur303/Problem-solve/blob/main/Unit_production_removeing.ipynb\" target=\"_parent\"><img src=\"https://colab.research.google.com/assets/colab-badge.svg\" alt=\"Open In Colab\"/></a>"
      ]
    },
    {
      "cell_type": "code",
      "execution_count": 9,
      "metadata": {
        "colab": {
          "base_uri": "https://localhost:8080/"
        },
        "id": "uKbvkfTqAJV1",
        "outputId": "1daac912-1e9b-41e2-9a46-32bb42239d6c"
      },
      "outputs": [
        {
          "output_type": "stream",
          "name": "stdout",
          "text": [
            "Enter your CFG productions (format: NonTerminal → RHS1,RHS2,...). Type 'done' to finish.\n",
            "Production: s-->aA |B\n",
            "Added: s- → ['aA |B']\n",
            "Production: A--> ba |bb\n",
            "Added: A- → ['ba |bb']\n",
            "Production: B-->A |bab\n",
            "Added: B- → ['A |bab']\n",
            "Production: done\n",
            "\n",
            "Original Grammar:\n",
            "s- → aA |B\n",
            "A- → ba |bb\n",
            "B- → A |bab\n",
            "\n",
            "Grammar without Unit Productions:\n",
            "s- → aA |B\n",
            "A- → ba |bb\n",
            "B- → A |bab\n"
          ]
        }
      ],
      "source": [
        "from collections import defaultdict\n",
        "\n",
        "def remove_unit_productions(grammar):\n",
        "    UNIT = defaultdict(set)\n",
        "    for A in grammar.keys():\n",
        "        UNIT[A].add(A)\n",
        "\n",
        "    # Step 2: Find all unit pairs\n",
        "    changed = True\n",
        "    while changed:\n",
        "        changed = False\n",
        "        for A in grammar:\n",
        "            for prod in grammar[A]:\n",
        "                if prod in grammar:  # unit production A → B\n",
        "                    if prod not in UNIT[A]:\n",
        "                        UNIT[A].add(prod)\n",
        "                        changed = True\n",
        "                    for C in UNIT[prod]:\n",
        "                        if C not in UNIT[A]:\n",
        "                            UNIT[A].add(C)\n",
        "                            changed = True\n",
        "\n",
        "    # Step 3: Add non-unit productions\n",
        "    new_grammar = defaultdict(set)\n",
        "    for A in grammar:\n",
        "        for B in UNIT[A]:\n",
        "            for prod in grammar[B]:\n",
        "                if not (prod in grammar and len(prod) == 1):\n",
        "                    new_grammar[A].add(prod)\n",
        "\n",
        "    # Convert set to list\n",
        "    final_grammar = {A: list(prods) for A, prods in new_grammar.items()}\n",
        "    return final_grammar\n",
        "\n",
        "# ---------------------------\n",
        "# Interactive Input\n",
        "# ---------------------------\n",
        "print(\"Enter your CFG productions (format: NonTerminal → RHS1,RHS2,...). Type 'done' to finish.\")\n",
        "grammar = {}\n",
        "\n",
        "while True:\n",
        "    line = input(\"Production: \").strip()\n",
        "    if line.lower() == 'done':\n",
        "        break\n",
        "    if '→' in line:\n",
        "        left, right = line.split('→')\n",
        "    elif '->' in line:\n",
        "        left, right = line.split('->')\n",
        "    else:\n",
        "        print(\"Invalid format. Use A → B,C,...\")\n",
        "        continue\n",
        "    left = left.strip()\n",
        "    rights = [r.strip() for r in right.split(',')]\n",
        "    grammar[left] = rights\n",
        "    print(f\"Added: {left} → {rights}\")\n",
        "\n",
        "# Process and remove unit productions\n",
        "new_grammar = remove_unit_productions(grammar)\n",
        "\n",
        "# Display Result\n",
        "print(\"\\nOriginal Grammar:\")\n",
        "for k, v in grammar.items():\n",
        "    print(f\"{k} → {','.join(v)}\")\n",
        "\n",
        "print(\"\\nGrammar without Unit Productions:\")\n",
        "for k, v in new_grammar.items():\n",
        "    print(f\"{k} → {','.join(v)}\")"
      ]
    }
  ]
}