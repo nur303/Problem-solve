{
  "cells": [
    {
      "cell_type": "markdown",
      "metadata": {
        "id": "view-in-github",
        "colab_type": "text"
      },
      "source": [
        "<a href=\"https://colab.research.google.com/github/nur303/Problem-solve/blob/main/cse317-Assignment_02.ipynb\" target=\"_parent\"><img src=\"https://colab.research.google.com/assets/colab-badge.svg\" alt=\"Open In Colab\"/></a>"
      ]
    },
    {
      "cell_type": "markdown",
      "metadata": {
        "id": "qnpz3EESKuCg"
      },
      "source": [
        "<a href=\"https://colab.research.google.com/github/mirsazzathossain/CSE317-Lab/blob/main/Lab_Assignment_02.ipynb\" target=\"_parent\"><img src=\"https://colab.research.google.com/assets/colab-badge.svg\" alt=\"Open In Colab\"/></a>"
      ]
    },
    {
      "cell_type": "markdown",
      "metadata": {
        "id": "xKDkiWZ9KuCk"
      },
      "source": [
        "#### **Find the following integral using the simpson's 1/3 rule**\n",
        "\n",
        "Simpson's 1/3 rule uses higher-order polynomials to approximate the integral of a function $f(x)$ over the interval $[a,b]$. For Example, if there is an extra point midway between $f(a)$ and $f(b)$, the three points can be connected with a parabola. The area under the parabola is an approximation of the integral of $f(x)$ over the interval $[a,b]$.\n",
        "\n",
        "<center>\n",
        "    <img src=\"./images/simpson.PNG\" width=\"400\" />\n",
        "</center>\n",
        "\n",
        "If we are given values of $f(x)$ at 3 points as $(x_0, f(x_0))$, $(x_1, f(x_1))$, and $(x_2, f(x_2))$ then we can estimate $f(x)$ using the Lagrange polynomial of degree 2:\n",
        "\n",
        "$$\n",
        "\\begin{align*}\n",
        "f(x) &\\approx f(x_0) \\frac{(x-x_1)(x-x_2)}{(x_0-x_1)(x_0-x_2)} + f(x_1) \\frac{(x-x_0)(x-x_2)}{(x_1-x_0)(x_1-x_2)} + f(x_2) \\frac{(x-x_0)(x-x_1)}{(x_2-x_0)(x_2-x_1)}\n",
        "\\end{align*}\n",
        "$$\n",
        "\n",
        "Now, as the area under the estimated curve is an approximation of the integral of $f(x)$ over the interval $[a,b]$, we can write the integral as:\n",
        "\n",
        "$$\n",
        "\\begin{align*}\n",
        "I &= \\int_{a}^{b} f(x) dx \\\\\n",
        "&\\approx \\int_{a}^{b} \\left[f(x_0)\\frac{(x-x_1)(x-x_2)}{(x_0-x_1)(x_0-x_2)} + f(x_1) \\frac{(x-x_0)(x-x_2)}{(x_1-x_0)(x_1-x_2)} + f(x_2) \\frac{(x-x_0)(x-x_1)}{(x_2-x_0)(x_2-x_1)} \\right] dx\n",
        "\\end{align*}\n",
        "$$\n",
        "\n",
        "When $a = x_0$, $b = x_2$, $x_1 = \\frac{a+b}{2}$, and $h = \\frac{b-a}{2}$, we can simplify the integral to:\n",
        "\n",
        "$$\n",
        "\\begin{align*}\n",
        "    I &\\approx \\frac{h}{3} \\left[ f(x_0) + 4f(x_1) + f(x_2) \\right] \\\\\n",
        "    &= (b-a) \\frac{f(x_0) + 4f(x_1) + f(x_2)}{6}\n",
        "\\end{align*}\n",
        "$$\n",
        "\n",
        "We will use Simpson's 1/3 rule to approximate the integral of $f(x) = 0.2 + 25x - 200x^2 + 675x^3 - 900x^4 + 400x^5$ over the interval $[0, 0.8]$. Follow the steps below to approximate the integral using Simpson's 1/3 rule."
      ]
    },
    {
      "cell_type": "markdown",
      "metadata": {
        "id": "JWUe_Ux1KuCm"
      },
      "source": [
        "##### **Step 1: Define the function**\n",
        "\n",
        "Define a function `f` that takes a single parameter `x` and returns the value of $f(x) = 0.2 + 25x - 200x^2 + 675x^3 - 900x^4 + 400x^5$ at `x`. Note that the function should be able to handle both scalar and vector inputs.\n"
      ]
    },
    {
      "cell_type": "code",
      "execution_count": 1,
      "metadata": {
        "id": "YeDfK1qDKuCn",
        "colab": {
          "base_uri": "https://localhost:8080/"
        },
        "outputId": "9e1e419c-3d40-40d1-e112-07ee8e6e1289"
      },
      "outputs": [
        {
          "output_type": "stream",
          "name": "stdout",
          "text": [
            "Approximate value of the integral: 1.3674666666666742\n"
          ]
        }
      ],
      "source": [
        "# Write appropriate code\n",
        "import numpy as np\n",
        "\n",
        "# Define the function f(x)\n",
        "def f(x):\n",
        "    x = np.array(x)  # Convert input to NumPy array for vectorized computation\n",
        "    return 0.2 + 25*x - 200*x**2 + 675*x**3 - 900*x**4 + 400*x**5\n",
        "\n",
        "# Simpson's 1/3 Rule implementation\n",
        "def simpsons_rule(f, a, b):\n",
        "    h = (b - a) / 2\n",
        "    x0 = a\n",
        "    x1 = a + h\n",
        "    x2 = b\n",
        "\n",
        "    fx0 = f(x0)\n",
        "    fx1 = f(x1)\n",
        "    fx2 = f(x2)\n",
        "\n",
        "    integral = (h / 3) * (fx0 + 4 * fx1 + fx2)\n",
        "    return integral\n",
        "\n",
        "# Define the interval\n",
        "a = 0\n",
        "b = 0.8\n",
        "\n",
        "# Calculate the integral\n",
        "result = simpsons_rule(f, a, b)\n",
        "\n",
        "# Display the result\n",
        "print(\"Approximate value of the integral:\", result)\n"
      ]
    },
    {
      "cell_type": "markdown",
      "metadata": {
        "id": "RT8F4vifKuCp"
      },
      "source": [
        "##### **Step 2: Define a function to approximate the function $f(x)$ using Lagrange polynomial**\n",
        "\n",
        "Define a function `lagrange` that takes four parameters `x0`, `x1`, `x2` and `x` and returns the value of the Lagrange polynomial of degree 2 at `x`. The function should be able to handle both scalar and vector inputs. Use the function `f` defined in Step 1 to evaluate the function at the given points."
      ]
    },
    {
      "cell_type": "code",
      "execution_count": 2,
      "metadata": {
        "id": "t__WUbemKuCq",
        "colab": {
          "base_uri": "https://localhost:8080/"
        },
        "outputId": "afbf2bde-fef4-4d49-8f96-9e08d9a06035"
      },
      "outputs": [
        {
          "output_type": "stream",
          "name": "stdout",
          "text": [
            "Lagrange at x = 0.4: 2.4560000000000004\n",
            "Lagrange at multiple x values: [0.2   1.888 2.456 1.904 0.232]\n"
          ]
        }
      ],
      "source": [
        "# write appropriate code\n",
        "import numpy as np\n",
        "\n",
        "# Define the function f(x)\n",
        "def f(x):\n",
        "    x = np.array(x)  # Convert input to NumPy array to support scalar/vector\n",
        "    return 0.2 + 25*x - 200*x**2 + 675*x**3 - 900*x**4 + 400*x**5\n",
        "\n",
        "# Define the Lagrange polynomial function of degree 2\n",
        "def lagrange(x0, x1, x2, x):\n",
        "    x = np.array(x)  # Ensure vectorized operations\n",
        "\n",
        "    # Function values at x0, x1, x2\n",
        "    f0 = f(x0)\n",
        "    f1 = f(x1)\n",
        "    f2 = f(x2)\n",
        "\n",
        "    # Compute Lagrange basis polynomials\n",
        "    L0 = ((x - x1)*(x - x2)) / ((x0 - x1)*(x0 - x2))\n",
        "    L1 = ((x - x0)*(x - x2)) / ((x1 - x0)*(x1 - x2))\n",
        "    L2 = ((x - x0)*(x - x1)) / ((x2 - x0)*(x2 - x1))\n",
        "\n",
        "    # Compute Lagrange interpolated value\n",
        "    return f0 * L0 + f1 * L1 + f2 * L2\n",
        "\n",
        "# Example usage\n",
        "\n",
        "# Define interpolation points\n",
        "x0 = 0.0\n",
        "x1 = 0.4\n",
        "x2 = 0.8\n",
        "\n",
        "# Scalar input\n",
        "x_scalar = 0.4\n",
        "print(\"Lagrange at x = 0.4:\", lagrange(x0, x1, x2, x_scalar))\n",
        "\n",
        "# Vector input\n",
        "x_vector = [0.0, 0.2, 0.4, 0.6, 0.8]\n",
        "print(\"Lagrange at multiple x values:\", lagrange(x0, x1, x2, x_vector))\n"
      ]
    },
    {
      "cell_type": "markdown",
      "metadata": {
        "id": "JTwJvLWZKuCq"
      },
      "source": [
        "##### **Step 3: Define the interval**\n",
        "Define the interval as a numpy array of two elements, where the first element is the lower bound and the second element is the upper bound. Name the array `interval`."
      ]
    },
    {
      "cell_type": "code",
      "execution_count": 4,
      "metadata": {
        "id": "4gjT3sqWKuCr",
        "colab": {
          "base_uri": "https://localhost:8080/"
        },
        "outputId": "d8edd603-fe17-48c4-a8e2-ffb99ff2379d"
      },
      "outputs": [
        {
          "output_type": "stream",
          "name": "stdout",
          "text": [
            "Interval: [0.  0.8]\n",
            "Lower bound (a): 0.0\n",
            "Upper bound (b): 0.8\n"
          ]
        }
      ],
      "source": [
        "import numpy as np\n",
        "\n",
        "# Define the interval [a, b] as a NumPy array\n",
        "interval = np.array([0.0, 0.8])\n",
        "\n",
        "# Print the interval\n",
        "print(\"Interval:\", interval)\n",
        "\n",
        "# Access and print lower and upper bounds\n",
        "lower_bound = interval[0]\n",
        "upper_bound = interval[1]\n",
        "\n",
        "print(\"Lower bound (a):\", lower_bound)\n",
        "print(\"Upper bound (b):\", upper_bound)\n"
      ]
    },
    {
      "cell_type": "markdown",
      "metadata": {
        "id": "Jqu6ieKhKuCr"
      },
      "source": [
        "##### **Step 4: Plot the function and the approximated polynomial**\n",
        "\n",
        "Plot the function $f(x)$ and the approximated polynomial using the function `lagrange` defined in Step 2. Use the interval defined in Step 3 as the x-axis. Also, plot the points $(x_0, f(x_0))$, $(x_1, f(x_1))$, and $(x_2, f(x_2))$ on the same plot. Fill the area under the approximated polynomial using numpy's `fill_between` function."
      ]
    },
    {
      "cell_type": "code",
      "execution_count": 5,
      "metadata": {
        "id": "OKH8cVDhKuCr",
        "colab": {
          "base_uri": "https://localhost:8080/",
          "height": 607
        },
        "outputId": "d69a7fea-f9ba-4412-973d-66c7294e1b0d"
      },
      "outputs": [
        {
          "output_type": "display_data",
          "data": {
            "text/plain": [
              "<Figure size 1000x600 with 1 Axes>"
            ],
            "image/png": "[encoded data removed]"
          },
          "metadata": {}
        }
      ],
      "source": [
        "# Write appropriate code\n",
        "import numpy as np\n",
        "import matplotlib.pyplot as plt\n",
        "\n",
        "# Step 1: Define f(x)\n",
        "def f(x):\n",
        "    x = np.array(x)\n",
        "    return 0.2 + 25*x - 200*x**2 + 675*x**3 - 900*x**4 + 400*x**5\n",
        "\n",
        "# Step 2: Define the Lagrange polynomial of degree 2\n",
        "def lagrange(x0, x1, x2, x):\n",
        "    x = np.array(x)\n",
        "    f0 = f(x0)\n",
        "    f1 = f(x1)\n",
        "    f2 = f(x2)\n",
        "\n",
        "    L0 = ((x - x1)*(x - x2)) / ((x0 - x1)*(x0 - x2))\n",
        "    L1 = ((x - x0)*(x - x2)) / ((x1 - x0)*(x1 - x2))\n",
        "    L2 = ((x - x0)*(x - x1)) / ((x2 - x0)*(x2 - x1))\n",
        "\n",
        "    return f0*L0 + f1*L1 + f2*L2\n",
        "\n",
        "# Step 3: Define the interval as a numpy array\n",
        "interval = np.array([0.0, 0.8])\n",
        "\n",
        "# Define x0, x1, x2\n",
        "x0 = interval[0]\n",
        "x2 = interval[1]\n",
        "x1 = (x0 + x2) / 2\n",
        "\n",
        "# Generate fine x values for plotting\n",
        "x_vals = np.linspace(x0, x2, 300)\n",
        "\n",
        "# Compute original function and Lagrange polynomial\n",
        "f_vals = f(x_vals)\n",
        "lagrange_vals = lagrange(x0, x1, x2, x_vals)\n",
        "\n",
        "# Interpolation points\n",
        "x_points = [x0, x1, x2]\n",
        "y_points = [f(x0), f(x1), f(x2)]\n",
        "\n",
        "# Plotting\n",
        "plt.figure(figsize=(10, 6))\n",
        "plt.plot(x_vals, f_vals, label='Original Function f(x)', color='blue', linewidth=2)\n",
        "plt.plot(x_vals, lagrange_vals, label='Lagrange Polynomial', color='orange', linestyle='--', linewidth=2)\n",
        "plt.scatter(x_points, y_points, color='red', zorder=5, label='Interpolation Points')\n",
        "\n",
        "# Fill area under Lagrange polynomial\n",
        "plt.fill_between(x_vals, lagrange_vals, color='orange', alpha=0.3, label='Area under Lagrange')\n",
        "\n",
        "# Labels and legend\n",
        "plt.title('Function f(x) and Lagrange Interpolation')\n",
        "plt.xlabel('x')\n",
        "plt.ylabel('y')\n",
        "plt.grid(True)\n",
        "plt.legend()\n",
        "plt.tight_layout()\n",
        "plt.show()\n"
      ]
    },
    {
      "cell_type": "markdown",
      "metadata": {
        "id": "2hePyYBSKuCs"
      },
      "source": [
        "##### **Step 5: Define a function to approximate the integral using Simpson's 1/3 rule**\n",
        "\n",
        "Define a function `simpson` that takes a parameter `interval` and returns the approximate value of the integral of $f(x)$ over the interval `interval` using Simpson's 1/3 rule. You have to employ the following steps:\n",
        "\n",
        "*   Calculate the midpoint of the interval. Store the value in a variable named `midpoint`.\n",
        "*   Calculate the value of $f(x_0)$, $f(x_1)$, and $f(x_2)$, where $x_0 = a$, $x_1 = \\frac{a+b}{2} = midpoint$, and $x_2 = b$. Store the values in variables named `f0`, `f1`, and `f2` respectively.\n",
        "*   Calculate the approximate value of the integral using Simpson's 1/3 rule. Store the value in a variable named `I`.\n",
        "*   Return the value of `I`."
      ]
    },
    {
      "cell_type": "code",
      "execution_count": 6,
      "metadata": {
        "id": "tV42jM5rKuCs",
        "colab": {
          "base_uri": "https://localhost:8080/"
        },
        "outputId": "1f12c56a-e22f-4ed5-b130-8068681d66db"
      },
      "outputs": [
        {
          "output_type": "stream",
          "name": "stdout",
          "text": [
            "Approximate integral using Simpson's 1/3 rule: 1.3674666666666742\n"
          ]
        }
      ],
      "source": [
        "# Write appropriate code\n",
        "import numpy as np\n",
        "\n",
        "# Define the function f(x)\n",
        "def f(x):\n",
        "    x = np.array(x)\n",
        "    return 0.2 + 25*x - 200*x**2 + 675*x**3 - 900*x**4 + 400*x**5\n",
        "\n",
        "# Define the Simpson's 1/3 rule function\n",
        "def simpson(interval):\n",
        "    a = interval[0]\n",
        "    b = interval[1]\n",
        "\n",
        "    # Step 1: Calculate midpoint\n",
        "    midpoint = (a + b) / 2\n",
        "\n",
        "    # Step 2: Evaluate f at x0, x1, x2\n",
        "    f0 = f(a)         # f(x0)\n",
        "    f1 = f(midpoint)  # f(x1)\n",
        "    f2 = f(b)         # f(x2)\n",
        "\n",
        "    # Step 3: Apply Simpson's 1/3 rule\n",
        "    I = (b - a) / 6 * (f0 + 4*f1 + f2)\n",
        "\n",
        "    # Step 4: Return the result\n",
        "    return I\n",
        "\n",
        "# Example usage\n",
        "interval = np.array([0.0, 0.8])\n",
        "result = simpson(interval)\n",
        "print(\"Approximate integral using Simpson's 1/3 rule:\", result)\n"
      ]
    },
    {
      "cell_type": "markdown",
      "metadata": {
        "id": "yBr6JyI9KuCs"
      },
      "source": [
        "##### **Step 6: Approximate the integral using Simpson's 1/3 rule**\n",
        "\n",
        "Call the function `simpson` with the interval `interval` as the parameter. Store the value returned by the function in a variable named `I`. Print the value of `I`. Then you should compute the integral analytically and find the absolute relative error between the two values. Print the absolute relative error."
      ]
    },
    {
      "cell_type": "code",
      "execution_count": 7,
      "metadata": {
        "id": "aJrmClPBKuCs",
        "colab": {
          "base_uri": "https://localhost:8080/"
        },
        "outputId": "623aac2f-36fd-4d13-c717-4f2473c2faa1"
      },
      "outputs": [
        {
          "output_type": "stream",
          "name": "stdout",
          "text": [
            "Approximate integral using Simpson's 1/3 rule: 1.3674666666666742\n",
            "Analytical integral value: 1.6405333333333445\n",
            "Absolute relative error: 0.16644993498049526\n"
          ]
        }
      ],
      "source": [
        "# Write appropriate code\n",
        "import numpy as np\n",
        "\n",
        "# Define the function f(x)\n",
        "def f(x):\n",
        "    x = np.array(x)\n",
        "    return 0.2 + 25*x - 200*x**2 + 675*x**3 - 900*x**4 + 400*x**5\n",
        "\n",
        "# Define the analytical integral (antiderivative) of f(x)\n",
        "def F(x):\n",
        "    x = np.array(x)\n",
        "    # Integrate term-by-term:\n",
        "    # ∫0.2 dx = 0.2x\n",
        "    # ∫25x dx = 25 x^2 / 2\n",
        "    # ∫-200x^2 dx = -200 x^3 / 3\n",
        "    # ∫675x^3 dx = 675 x^4 / 4\n",
        "    # ∫-900x^4 dx = -900 x^5 / 5 = -180 x^5\n",
        "    # ∫400x^5 dx = 400 x^6 / 6 = (200/3) x^6\n",
        "    return (0.2*x +\n",
        "            25*(x**2)/2 -\n",
        "            200*(x**3)/3 +\n",
        "            675*(x**4)/4 -\n",
        "            180*(x**5) +\n",
        "            (200/3)*(x**6))\n",
        "\n",
        "# Simpson's 1/3 rule function\n",
        "def simpson(interval):\n",
        "    a = interval[0]\n",
        "    b = interval[1]\n",
        "    midpoint = (a + b) / 2\n",
        "    f0 = f(a)\n",
        "    f1 = f(midpoint)\n",
        "    f2 = f(b)\n",
        "    I = (b - a) / 6 * (f0 + 4*f1 + f2)\n",
        "    return I\n",
        "\n",
        "# Define the interval\n",
        "interval = np.array([0.0, 0.8])\n",
        "\n",
        "# Call simpson and store result\n",
        "I = simpson(interval)\n",
        "print(f\"Approximate integral using Simpson's 1/3 rule: {I}\")\n",
        "\n",
        "# Compute analytical integral value\n",
        "a = interval[0]\n",
        "b = interval[1]\n",
        "I_exact = F(b) - F(a)\n",
        "print(f\"Analytical integral value: {I_exact}\")\n",
        "\n",
        "# Compute absolute relative error\n",
        "abs_rel_error = abs((I_exact - I) / I_exact)\n",
        "print(f\"Absolute relative error: {abs_rel_error}\")\n"
      ]
    }
  ],
  "metadata": {
    "kernelspec": {
      "display_name": "Python 3",
      "language": "python",
      "name": "python3"
    },
    "language_info": {
      "codemirror_mode": {
        "name": "ipython",
        "version": 3
      },
      "file_extension": ".py",
      "mimetype": "text/x-python",
      "name": "python",
      "nbconvert_exporter": "python",
      "pygments_lexer": "ipython3",
      "version": "3.10.6 (tags/v3.10.6:9c7b4bd, Aug  1 2022, 21:53:49) [MSC v.1932 64 bit (AMD64)]"
    },
    "orig_nbformat": 4,
    "vscode": {
      "interpreter": {
        "hash": "b148fc9bfa8b60132af830e32e1690e4e023b803e92912df15b823b90141dda6"
      }
    },
    "colab": {
      "provenance": [],
      "include_colab_link": true
    }
  },
  "nbformat": 4,
  "nbformat_minor": 0
}