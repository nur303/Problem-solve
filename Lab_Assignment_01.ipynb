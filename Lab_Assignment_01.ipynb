{
  "cells": [
    {
      "cell_type": "markdown",
      "metadata": {
        "id": "view-in-github",
        "colab_type": "text"
      },
      "source": [
        "<a href=\"https://colab.research.google.com/github/nur303/Problem-solve/blob/main/Lab_Assignment_01.ipynb\" target=\"_parent\"><img src=\"https://colab.research.google.com/assets/colab-badge.svg\" alt=\"Open In Colab\"/></a>"
      ]
    },
    {
      "cell_type": "markdown",
      "metadata": {
        "id": "5jGVu91yvbEm"
      },
      "source": [
        "#### **Homework 01:**\n",
        "Generate random matrix of size 10 x 5. Then, solve the following problems:"
      ]
    },
    {
      "cell_type": "markdown",
      "metadata": {
        "id": "-K6EAp7evP3e"
      },
      "source": [
        "<a href=\"https://colab.research.google.com/github/mirsazzathossain/CSE317-Lab/blob/main/Lab_Assignment_01.ipynb\" target=\"_parent\"><img src=\"https://colab.research.google.com/assets/colab-badge.svg\" alt=\"Open In Colab\"/></a>"
      ]
    },
    {
      "cell_type": "code",
      "execution_count": 25,
      "metadata": {
        "colab": {
          "base_uri": "https://localhost:8080/"
        },
        "id": "MQMhdMbJvP3f",
        "outputId": "5c839fcb-0eb4-48b0-be3b-8f5e8096a60f"
      },
      "outputs": [
        {
          "output_type": "stream",
          "name": "stdout",
          "text": [
            "Random 10x5 Matrix:\n",
            "[[41 16 73 23 44]\n",
            " [83 76  8 35 50]\n",
            " [96 76 86 48 64]\n",
            " [32 91 21 38 40]\n",
            " [68  5 43 52 39]\n",
            " [34 59 68 70 89]\n",
            " [69 47 71 96 84]\n",
            " [32 67 81 53 77]\n",
            " [51  5 91 64 80]\n",
            " [50 40 47  9 51]]\n"
          ]
        }
      ],
      "source": [
        "import numpy as np\n",
        "\n",
        "# Set a random seed for reproducibility (optional)\n",
        "np.random.seed(2)\n",
        "\n",
        "# Generate a 10x5 matrix with random integers between 1 and 100\n",
        "matrix = np.random.randint(1, 101, size=(10, 5))\n",
        "\n",
        "# Print the matrix\n",
        "print(\"Random 10x5 Matrix:\")\n",
        "print(matrix)\n"
      ]
    },
    {
      "cell_type": "markdown",
      "metadata": {
        "id": "EqPQi8EIvP3g"
      },
      "source": [
        "##### **Problem 01:**\n",
        "Calculate the sum and mean of the 2nd row of the matrix."
      ]
    },
    {
      "cell_type": "code",
      "execution_count": 29,
      "metadata": {
        "colab": {
          "base_uri": "https://localhost:8080/"
        },
        "id": "IKQhQvRnvP3g",
        "outputId": "ce22c825-d5e4-4d87-f16d-1ce19f1c0645"
      },
      "outputs": [
        {
          "output_type": "stream",
          "name": "stdout",
          "text": [
            "Second row: [83 76  8 35 50]\n",
            "Sum of 2nd row: 252\n",
            "Mean of 2nd row: 50.4\n"
          ]
        }
      ],
      "source": [
        "second_row = matrix[1]\n",
        "row_sum= np.sum(second_row)\n",
        "row_mean = np.mean(second_row)\n",
        "print(\"Second row:\", second_row)\n",
        "print(\"Sum of 2nd row:\", row_sum)\n",
        "print(\"Mean of 2nd row:\", row_mean)\n"
      ]
    },
    {
      "cell_type": "markdown",
      "metadata": {
        "id": "apOeGqWPvP3h"
      },
      "source": [
        "##### **Problem 02:**\n",
        "Find the sum and mean of all the rows of the matrix."
      ]
    },
    {
      "cell_type": "code",
      "execution_count": 31,
      "metadata": {
        "colab": {
          "base_uri": "https://localhost:8080/"
        },
        "id": "E5f_bW9jvP3h",
        "outputId": "5e26491c-de46-4dff-bfed-1af41fec1276"
      },
      "outputs": [
        {
          "output_type": "stream",
          "name": "stdout",
          "text": [
            "Sum Of all rpws [197 252 370 222 207 320 367 310 291 197]\n",
            "Mean Of all rpws [39.4 50.4 74.  44.4 41.4 64.  73.4 62.  58.2 39.4]\n"
          ]
        }
      ],
      "source": [
        "sum_of_rows=np.sum(matrix,axis=1)\n",
        "mean_of_rows=np.mean(matrix,axis=1)\n",
        "print(\"Sum Of all rpws\",sum_of_rows)\n",
        "print(\"Mean Of all rpws\",mean_of_rows)"
      ]
    },
    {
      "cell_type": "markdown",
      "metadata": {
        "id": "wTI0Hd5kvP3h"
      },
      "source": [
        "##### **Problem 03:**\n",
        "Find the mean of the 3rd column of the matrix without using the built-in function and loop."
      ]
    },
    {
      "cell_type": "code",
      "execution_count": 36,
      "metadata": {
        "colab": {
          "base_uri": "https://localhost:8080/"
        },
        "id": "Zjpg0sXdvP3i",
        "outputId": "65153b2a-7112-41cc-a349-829da1391a94"
      },
      "outputs": [
        {
          "output_type": "stream",
          "name": "stdout",
          "text": [
            "3rd Column: [73  8 86 21 43 68 71 81 91 47]\n",
            "Mean of 3rd column: 58.9\n"
          ]
        }
      ],
      "source": [
        "third_col = matrix[ :, 2]\n",
        "\n",
        "total = third_col.sum()\n",
        "\n",
        "mean = total / matrix.shape[0]\n",
        "\n",
        "print(\"3rd Column:\", third_col)\n",
        "print(\"Mean of 3rd column:\", mean)\n"
      ]
    },
    {
      "cell_type": "markdown",
      "metadata": {
        "id": "R76DSuqcvP3i"
      },
      "source": [
        "##### **Problem 04:**\n",
        "Generate the vector `[25, 16, 9, 4, 1]` and then find the square root of each element of the vector using for loop. **Hint:** Use `np.sqrt()` function to find the square root of a number, don't use any other built-in function."
      ]
    },
    {
      "cell_type": "code",
      "execution_count": 44,
      "metadata": {
        "colab": {
          "base_uri": "https://localhost:8080/"
        },
        "id": "RyDx6YVbvP3i",
        "outputId": "b2590614-c37c-4722-c143-00b1de2d1d7e"
      },
      "outputs": [
        {
          "output_type": "stream",
          "name": "stdout",
          "text": [
            "Original Vector: [25 16  9  4  1]\n",
            "Square Root Vector: [5, 4, 3, 2, 1]\n"
          ]
        }
      ],
      "source": [
        "vector = np.array([25, 16, 9, 4, 1])\n",
        "\n",
        "sqrt_vector = [ ]\n",
        "\n",
        "for num in vector:\n",
        "    a = int(np.sqrt(num))\n",
        "    sqrt_vector.append(a)\n",
        "\n",
        "print(\"Original Vector:\", vector)\n",
        "print(\"Square Root Vector:\", sqrt_vector)\n"
      ]
    },
    {
      "cell_type": "markdown",
      "metadata": {
        "id": "zGXNTwVNvP3i"
      },
      "source": [
        "##### **Problem 05:**\n",
        "Write a function that takes a number and returns a vector like the previous problem. For example, if the input is 5, then the output should be `[25, 16, 9, 4, 1]`. If the input is 10, then the output should be `[100, 81, 64, 49, 36, 25, 16, 9, 4, 1]`."
      ]
    },
    {
      "cell_type": "code",
      "execution_count": 58,
      "metadata": {
        "colab": {
          "base_uri": "https://localhost:8080/"
        },
        "id": "6P1HWuFpvP3j",
        "outputId": "45d43aa9-460c-44fd-d12c-cc397b57ee24"
      },
      "outputs": [
        {
          "output_type": "stream",
          "name": "stdout",
          "text": [
            "enter a number: 10\n",
            "[100  81  64  49  36  25  16   9   4   1]\n"
          ]
        }
      ],
      "source": [
        "def squared_vector(num):\n",
        "    nums = np.arange(num, 0, -1)\n",
        "    squared_vector = nums ** 2\n",
        "    return squared_vector\n",
        "\n",
        "num = int(input('enter a number: '))\n",
        "result = squared_vector(num)\n",
        "print(result)"
      ]
    },
    {
      "cell_type": "markdown",
      "metadata": {
        "id": "9KwY2JW5vP3j"
      },
      "source": [
        "##### **Problem 06:**\n",
        "Generate the following block matrix:\n",
        "\n",
        "$$\n",
        "\\begin{bmatrix}\n",
        "1 & 0 & 0 & 2 & 2 \\\\\n",
        "0 & 1 & 0 & 2 & 2 \\\\\n",
        "0 & 0 & 1 & 2 & 2 \\\\\n",
        "25 & 16 & 9 & 4 & 1 \\\\\n",
        "\\end{bmatrix}\n",
        "$$\n",
        "\n",
        "You can use any built-in function to generate the matrix."
      ]
    },
    {
      "cell_type": "code",
      "execution_count": 59,
      "metadata": {
        "colab": {
          "base_uri": "https://localhost:8080/"
        },
        "id": "aBeZva_1vP3j",
        "outputId": "1e85debb-917d-4156-a6b0-581a01c8a234"
      },
      "outputs": [
        {
          "output_type": "stream",
          "name": "stdout",
          "text": [
            "Block Matrix:\n",
            "[[ 1  0  0  2  2]\n",
            " [ 0  1  0  2  2]\n",
            " [ 0  0  1  2  2]\n",
            " [25 16  9  4  1]]\n"
          ]
        }
      ],
      "source": [
        "I = np.eye(3, dtype=int)\n",
        "twos = np.full((3, 2), 2)\n",
        "top_block = np.hstack((I, twos))\n",
        "bottom_row = np.array([[25, 16, 9, 4, 1]])\n",
        "final_matrix = np.vstack((top_block, bottom_row))\n",
        "print(\"Block Matrix:\")\n",
        "print(final_matrix)\n"
      ]
    },
    {
      "cell_type": "markdown",
      "metadata": {
        "id": "xcWSlG5YvP3j"
      },
      "source": [
        "##### **Problem 07:**\n",
        "Plot $y = 2x^2 + 3x + 1$ for $x \\in [-3, 3]$ with interval 0.25. You can use any built-in function to plot the graph."
      ]
    },
    {
      "cell_type": "code",
      "execution_count": null,
      "metadata": {
        "id": "duMwZ9IPvP3j"
      },
      "outputs": [],
      "source": [
        "# Write your code here"
      ]
    },
    {
      "cell_type": "markdown",
      "metadata": {
        "id": "vb5mNQ18vP3j"
      },
      "source": [
        "##### **Problem 08:**\n",
        "Plot $x + y + z = 1$ for $x, y \\in [-3, 3]$ with interval 0.5. Use meshgrid to generate the grid. You can use any built-in function to plot the surface."
      ]
    },
    {
      "cell_type": "code",
      "execution_count": null,
      "metadata": {
        "id": "ALwlGHXuvP3j"
      },
      "outputs": [],
      "source": [
        "# Write your code here"
      ]
    },
    {
      "cell_type": "markdown",
      "metadata": {
        "id": "s393SVh6vP3j"
      },
      "source": [
        "##### **Problem 09:**\n",
        "Download the image of Lena Forsen from the following link: [https://upload.wikimedia.org/wikipedia/en/7/7d/Lenna_%28test_image%29.png](https://upload.wikimedia.org/wikipedia/en/7/7d/Lenna_%28test_image%29.png). Then, do the following tasks:\n",
        "\n",
        "*  Load the image to a numpy array.\n",
        "*  Find the size of the image.\n",
        "*  Find the minimum and maximum value of the image.\n",
        "*  Find the mean and standard deviation of the image.\n",
        "*  Plot the image using `plt.imshow()` or `display()`.\n",
        "*  Resize the image to 50 x 50.\n",
        "*  Convert the image to grayscale.\n",
        "*  Plot the grayscale image using `plt.imshow()` or `display()`.\n",
        "*  Save the grayscale image using `imsave()`.\n",
        "*  Stack the columns of the image to form a vector of size 2500 x 1."
      ]
    },
    {
      "cell_type": "code",
      "execution_count": null,
      "metadata": {
        "id": "CQGWlP3zvP3k"
      },
      "outputs": [],
      "source": [
        "# Write your code here"
      ]
    },
    {
      "cell_type": "markdown",
      "metadata": {
        "id": "KzLhyH6YvP3k"
      },
      "source": [
        "##### **Problem 10:**\n",
        "Compute 2nd order Taylor approximation of $e^{2x}$ and $e^{3x}$, and $e^{5x}$ around $a = 0$ for $x \\in [-1, 1]$ with interval 0.01. Then, determine which of the following is more accurate:\n",
        "> 1. Calculating the Taylor approximation separately for each $e^{2x}$, $e^{3x}$ then multiplying them together.\n",
        "> 2. Calculating the Taylor approximation for $e^{5x}$.\n",
        "\n",
        "Use mean square error (MSE) to determine the accuracy. Also, plot the Taylor approximation for 1st and 2nd method and the original function in the same plot for visual comparison."
      ]
    },
    {
      "cell_type": "code",
      "execution_count": null,
      "metadata": {
        "id": "FTufnDoSvP3k"
      },
      "outputs": [],
      "source": [
        "# Write your code here"
      ]
    }
  ],
  "metadata": {
    "kernelspec": {
      "display_name": "Python 3.10.6 64-bit",
      "language": "python",
      "name": "python3"
    },
    "language_info": {
      "codemirror_mode": {
        "name": "ipython",
        "version": 3
      },
      "file_extension": ".py",
      "mimetype": "text/x-python",
      "name": "python",
      "nbconvert_exporter": "python",
      "pygments_lexer": "ipython3",
      "version": "3.10.6 (tags/v3.10.6:9c7b4bd, Aug  1 2022, 21:53:49) [MSC v.1932 64 bit (AMD64)]"
    },
    "orig_nbformat": 4,
    "vscode": {
      "interpreter": {
        "hash": "b148fc9bfa8b60132af830e32e1690e4e023b803e92912df15b823b90141dda6"
      }
    },
    "colab": {
      "provenance": [],
      "include_colab_link": true
    }
  },
  "nbformat": 4,
  "nbformat_minor": 0
}